{
 "cells": [
  {
   "cell_type": "code",
   "execution_count": 3,
   "id": "2808d631-9ab6-4a78-aaf2-7eab322ed958",
   "metadata": {},
   "outputs": [
    {
     "data": {
      "text/plain": [
       "'C:\\\\Users\\\\Christian\\\\AppData\\\\Local\\\\Programs\\\\Python\\\\Python311\\\\python.exe'"
      ]
     },
     "execution_count": 3,
     "metadata": {},
     "output_type": "execute_result"
    }
   ],
   "source": [
    "import sys\n",
    "sys.executable"
   ]
  },
  {
   "cell_type": "code",
   "execution_count": 4,
   "id": "e3b5c0cb-0965-42b8-bfdd-d5f2598ef8b7",
   "metadata": {},
   "outputs": [
    {
     "name": "stdout",
     "output_type": "stream",
     "text": [
      "Package                       Version\n",
      "----------------------------- -------------------\n",
      "absl-py                       1.4.0\n",
      "apache-beam                   2.46.0\n",
      "array-record                  0.4.1\n",
      "astunparse                    1.6.3\n",
      "avro-python3                  1.10.2\n",
      "beautifulsoup4                4.12.2\n",
      "bleach                        6.1.0\n",
      "cachetools                    5.3.2\n",
      "certifi                       2023.11.17\n",
      "charset-normalizer            3.3.2\n",
      "click                         8.1.7\n",
      "cloudpickle                   2.2.1\n",
      "colorama                      0.4.6\n",
      "contextlib2                   21.6.0\n",
      "contourpy                     1.2.0\n",
      "crcmod                        1.7\n",
      "cycler                        0.12.1\n",
      "Cython                        3.0.7\n",
      "dill                          0.3.1.1\n",
      "dm-tree                       0.1.8\n",
      "docopt                        0.6.2\n",
      "etils                         1.5.2\n",
      "fastavro                      1.9.2\n",
      "fasteners                     0.19\n",
      "flatbuffers                   23.5.26\n",
      "fonttools                     4.47.0\n",
      "fsspec                        2023.12.2\n",
      "gast                          0.4.0\n",
      "gin-config                    0.5.0\n",
      "google                        3.0.0\n",
      "google-api-core               2.15.0\n",
      "google-api-python-client      2.112.0\n",
      "google-auth                   2.26.1\n",
      "google-auth-httplib2          0.2.0\n",
      "google-auth-oauthlib          0.4.6\n",
      "google-pasta                  0.2.0\n",
      "googleapis-common-protos      1.62.0\n",
      "grpcio                        1.34.1\n",
      "h5py                          3.1.0\n",
      "hdfs                          2.7.3\n",
      "httplib2                      0.21.0\n",
      "idna                          3.6\n",
      "immutabledict                 4.1.0\n",
      "importlib-metadata            7.0.1\n",
      "importlib-resources           6.1.1\n",
      "joblib                        1.3.2\n",
      "kaggle                        1.6.0\n",
      "keras                         2.10.0\n",
      "keras-nightly                 2.5.0.dev2021032900\n",
      "Keras-Preprocessing           1.1.2\n",
      "kiwisolver                    1.4.5\n",
      "libclang                      16.0.6\n",
      "lvis                          0.5.3\n",
      "lxml                          5.0.0\n",
      "Markdown                      3.5.1\n",
      "MarkupSafe                    2.1.3\n",
      "matplotlib                    3.8.2\n",
      "numpy                         1.24.4\n",
      "oauth2client                  4.1.3\n",
      "oauthlib                      3.2.2\n",
      "object_detection              0.1\n",
      "objsize                       0.6.1\n",
      "opencv-python                 4.9.0.80\n",
      "opencv-python-headless        4.9.0.80\n",
      "opt-einsum                    3.3.0\n",
      "orjson                        3.9.10\n",
      "packaging                     23.2\n",
      "pandas                        2.1.4\n",
      "pillow                        10.2.0\n",
      "pip                           23.3.1\n",
      "portalocker                   2.8.2\n",
      "promise                       2.3\n",
      "proto-plus                    1.23.0\n",
      "protobuf                      3.19.4\n",
      "psutil                        5.9.7\n",
      "py-cpuinfo                    9.0.0\n",
      "pyarrow                       9.0.0\n",
      "pyasn1                        0.5.1\n",
      "pyasn1-modules                0.3.0\n",
      "pycocotools                   2.0\n",
      "pydot                         1.4.2\n",
      "pymongo                       3.13.0\n",
      "pyparsing                     2.4.7\n",
      "python-dateutil               2.8.2\n",
      "python-slugify                8.0.1\n",
      "pytz                          2023.3.post1\n",
      "pywin32                       306\n",
      "PyYAML                        5.4.1\n",
      "regex                         2023.12.25\n",
      "requests                      2.31.0\n",
      "requests-oauthlib             1.3.1\n",
      "rsa                           4.9\n",
      "sacrebleu                     2.2.0\n",
      "scikit-learn                  1.3.2\n",
      "scipy                         1.11.4\n",
      "sentencepiece                 0.1.99\n",
      "seqeval                       1.2.2\n",
      "setuptools                    68.2.2\n",
      "six                           1.15.0\n",
      "soupsieve                     2.5\n",
      "tabulate                      0.9.0\n",
      "tensorboard                   2.10.1\n",
      "tensorboard-data-server       0.6.1\n",
      "tensorboard-plugin-wit        1.8.1\n",
      "tensorflow                    2.10.1\n",
      "tensorflow-addons             0.22.0\n",
      "tensorflow-datasets           4.9.0\n",
      "tensorflow-estimator          2.10.0\n",
      "tensorflow-hub                0.15.0\n",
      "tensorflow-io                 0.31.0\n",
      "tensorflow-io-gcs-filesystem  0.31.0\n",
      "tensorflow-metadata           1.13.0\n",
      "tensorflow-model-optimization 0.7.5\n",
      "tensorflow-text               2.10.0\n",
      "termcolor                     1.1.0\n",
      "text-unidecode                1.3\n",
      "tf-models-official            2.10.1\n",
      "tf-slim                       1.1.0\n",
      "threadpoolctl                 3.2.0\n",
      "toml                          0.10.2\n",
      "tqdm                          4.66.1\n",
      "typeguard                     2.13.3\n",
      "typing-extensions             3.7.4.3\n",
      "tzdata                        2023.4\n",
      "uritemplate                   4.1.1\n",
      "urllib3                       2.1.0\n",
      "webencodings                  0.5.1\n",
      "Werkzeug                      3.0.1\n",
      "wheel                         0.41.2\n",
      "wrapt                         1.12.1\n",
      "zipp                          3.17.0\n",
      "zstandard                     0.22.0\n"
     ]
    }
   ],
   "source": [
    "!pip list\n"
   ]
  },
  {
   "cell_type": "code",
   "execution_count": 5,
   "id": "32b0f375-74b8-4633-8ed1-88ef4ef6fea2",
   "metadata": {},
   "outputs": [
    {
     "name": "stdout",
     "output_type": "stream",
     "text": [
      "# conda environments:\n",
      "#\n",
      "base                     C:\\ProgramData\\miniconda3\n",
      "tensorflow               C:\\Users\\Christian\\.conda\\envs\\tensorflow\n",
      "tf                    *  C:\\Users\\Christian\\.conda\\envs\\tf\n",
      "                         D:\\Anaconda3\n",
      "                         D:\\ProgramData\n",
      "\n"
     ]
    }
   ],
   "source": [
    "!conda info --env\n"
   ]
  },
  {
   "cell_type": "code",
   "execution_count": 7,
   "id": "b472be12-af9a-4a1c-b296-10e3838e0168",
   "metadata": {},
   "outputs": [
    {
     "name": "stdout",
     "output_type": "stream",
     "text": [
      "C:\\Users\\Christian\\AppData\\Local\\Programs\\Python\\Python311\\python.exe\n",
      "/n\n",
      "['D:\\\\Projects\\\\Github Repo\\\\SignLanguageDetection', 'C:\\\\Users\\\\Christian\\\\AppData\\\\Local\\\\Programs\\\\Python\\\\Python311\\\\python311.zip', 'C:\\\\Users\\\\Christian\\\\AppData\\\\Local\\\\Programs\\\\Python\\\\Python311\\\\DLLs', 'C:\\\\Users\\\\Christian\\\\AppData\\\\Local\\\\Programs\\\\Python\\\\Python311\\\\Lib', 'C:\\\\Users\\\\Christian\\\\AppData\\\\Local\\\\Programs\\\\Python\\\\Python311', '', 'C:\\\\Users\\\\Christian\\\\AppData\\\\Local\\\\Programs\\\\Python\\\\Python311\\\\Lib\\\\site-packages', 'C:\\\\Users\\\\Christian\\\\AppData\\\\Local\\\\Programs\\\\Python\\\\Python311\\\\Lib\\\\site-packages\\\\win32', 'C:\\\\Users\\\\Christian\\\\AppData\\\\Local\\\\Programs\\\\Python\\\\Python311\\\\Lib\\\\site-packages\\\\win32\\\\lib', 'C:\\\\Users\\\\Christian\\\\AppData\\\\Local\\\\Programs\\\\Python\\\\Python311\\\\Lib\\\\site-packages\\\\Pythonwin']\n"
     ]
    }
   ],
   "source": [
    "import sys\n",
    "print(sys.executable)\n",
    "print(\"/n\")\n",
    "print(sys.path)\n"
   ]
  },
  {
   "cell_type": "code",
   "execution_count": null,
   "id": "3ecfcb28-f87f-4a8d-a510-6f5f4a9fa13a",
   "metadata": {},
   "outputs": [],
   "source": []
  }
 ],
 "metadata": {
  "kernelspec": {
   "display_name": "Python 3 (ipykernel)",
   "language": "python",
   "name": "python3"
  },
  "language_info": {
   "codemirror_mode": {
    "name": "ipython",
    "version": 3
   },
   "file_extension": ".py",
   "mimetype": "text/x-python",
   "name": "python",
   "nbconvert_exporter": "python",
   "pygments_lexer": "ipython3",
   "version": "3.11.6"
  }
 },
 "nbformat": 4,
 "nbformat_minor": 5
}
