{
 "cells": [
  {
   "cell_type": "code",
   "execution_count": null,
   "id": "a8d49c44-1043-4057-942d-e3ca99126afb",
   "metadata": {},
   "outputs": [],
   "source": [
    "import cv2\n",
    "import os\n",
    "import time\n",
    "import uuid"
   ]
  },
  {
   "cell_type": "code",
   "execution_count": null,
   "id": "a98ee5fd-3ba5-4867-aff7-d82b18e19b7d",
   "metadata": {},
   "outputs": [],
   "source": [
    "IMAGES_PATH = 'Tensorflow/workspace/images/collectedimages'"
   ]
  },
  {
   "cell_type": "code",
   "execution_count": null,
   "id": "00dcc5e1-2c59-404e-b5b8-2370ff25d579",
   "metadata": {},
   "outputs": [],
   "source": [
    "labels = ['hello', 'yes', 'no', 'thanks', 'iloveyou']\n",
    "number_imgs = 15"
   ]
  }
 ],
 "metadata": {
  "kernelspec": {
   "display_name": "Python 3 (ipykernel)",
   "language": "python",
   "name": "python3"
  },
  "language_info": {
   "codemirror_mode": {
    "name": "ipython",
    "version": 3
   },
   "file_extension": ".py",
   "mimetype": "text/x-python",
   "name": "python",
   "nbconvert_exporter": "python",
   "pygments_lexer": "ipython3",
   "version": "3.11.6"
  }
 },
 "nbformat": 4,
 "nbformat_minor": 5
}
